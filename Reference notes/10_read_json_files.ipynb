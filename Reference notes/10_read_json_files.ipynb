{
 "cells": [
  {
   "cell_type": "code",
   "execution_count": 1,
   "id": "0a3bc82c-251d-4761-ada8-aae71b3fb091",
   "metadata": {},
   "outputs": [
    {
     "name": "stderr",
     "output_type": "stream",
     "text": [
      "Setting default log level to \"WARN\".\n",
      "To adjust logging level use sc.setLogLevel(newLevel). For SparkR, use setLogLevel(newLevel).\n",
      "24/07/24 14:44:36 WARN NativeCodeLoader: Unable to load native-hadoop library for your platform... using builtin-java classes where applicable\n"
     ]
    },
    {
     "data": {
      "text/html": [
       "\n",
       "            <div>\n",
       "                <p><b>SparkSession - in-memory</b></p>\n",
       "                \n",
       "        <div>\n",
       "            <p><b>SparkContext</b></p>\n",
       "\n",
       "            <p><a href=\"http://vinayaks-mbp.station:4040\">Spark UI</a></p>\n",
       "\n",
       "            <dl>\n",
       "              <dt>Version</dt>\n",
       "                <dd><code>v3.5.1</code></dd>\n",
       "              <dt>Master</dt>\n",
       "                <dd><code>local[*]</code></dd>\n",
       "              <dt>AppName</dt>\n",
       "                <dd><code>Reading and Parsing JSON Files/Data</code></dd>\n",
       "            </dl>\n",
       "        </div>\n",
       "        \n",
       "            </div>\n",
       "        "
      ],
      "text/plain": [
       "<pyspark.sql.session.SparkSession at 0x108d5ba90>"
      ]
     },
     "execution_count": 1,
     "metadata": {},
     "output_type": "execute_result"
    }
   ],
   "source": [
    "# Spark Session\n",
    "from pyspark.sql import SparkSession\n",
    "\n",
    "spark = (\n",
    "    SparkSession\n",
    "    .builder\n",
    "    .appName(\"Reading and Parsing JSON Files/Data\")\n",
    "    .master(\"local[*]\")\n",
    "    .getOrCreate()\n",
    ")\n",
    "\n",
    "spark"
   ]
  },
  {
   "cell_type": "code",
   "execution_count": 3,
   "id": "9cb26b96-2995-444e-bf15-679a25958c58",
   "metadata": {},
   "outputs": [],
   "source": [
    "# Read Single line JSON file\n",
    "\n",
    "df_single = spark.read.format(\"json\").load(\"/Users/vinayakpawar/Desktop/Work/Full_Stack/Python/PySpark/Reference notes/datasets/order_singleline.json\")"
   ]
  },
  {
   "cell_type": "code",
   "execution_count": 4,
   "id": "bad930ba-144d-47bb-8321-6a14451c71d2",
   "metadata": {},
   "outputs": [
    {
     "name": "stdout",
     "output_type": "stream",
     "text": [
      "root\n",
      " |-- _corrupt_record: string (nullable = true)\n",
      "\n"
     ]
    }
   ],
   "source": [
    "df_single.printSchema()"
   ]
  },
  {
   "cell_type": "code",
   "execution_count": 5,
   "id": "04574d9e-2f44-4d6b-b812-8f7b5c9af209",
   "metadata": {},
   "outputs": [
    {
     "ename": "AnalysisException",
     "evalue": "Since Spark 2.3, the queries from raw JSON/CSV files are disallowed when the\nreferenced columns only include the internal corrupt record column\n(named _corrupt_record by default). For example:\nspark.read.schema(schema).csv(file).filter($\"_corrupt_record\".isNotNull).count()\nand spark.read.schema(schema).csv(file).select(\"_corrupt_record\").show().\nInstead, you can cache or save the parsed results and then send the same query.\nFor example, val df = spark.read.schema(schema).csv(file).cache() and then\ndf.filter($\"_corrupt_record\".isNotNull).count().",
     "output_type": "error",
     "traceback": [
      "\u001b[0;31m---------------------------------------------------------------------------\u001b[0m",
      "\u001b[0;31mAnalysisException\u001b[0m                         Traceback (most recent call last)",
      "Cell \u001b[0;32mIn[5], line 1\u001b[0m\n\u001b[0;32m----> 1\u001b[0m \u001b[43mdf_single\u001b[49m\u001b[38;5;241;43m.\u001b[39;49m\u001b[43mshow\u001b[49m\u001b[43m(\u001b[49m\u001b[43m)\u001b[49m\n",
      "File \u001b[0;32m~/anaconda3/envs/ai/lib/python3.11/site-packages/pyspark/sql/dataframe.py:945\u001b[0m, in \u001b[0;36mDataFrame.show\u001b[0;34m(self, n, truncate, vertical)\u001b[0m\n\u001b[1;32m    885\u001b[0m \u001b[38;5;28;01mdef\u001b[39;00m \u001b[38;5;21mshow\u001b[39m(\u001b[38;5;28mself\u001b[39m, n: \u001b[38;5;28mint\u001b[39m \u001b[38;5;241m=\u001b[39m \u001b[38;5;241m20\u001b[39m, truncate: Union[\u001b[38;5;28mbool\u001b[39m, \u001b[38;5;28mint\u001b[39m] \u001b[38;5;241m=\u001b[39m \u001b[38;5;28;01mTrue\u001b[39;00m, vertical: \u001b[38;5;28mbool\u001b[39m \u001b[38;5;241m=\u001b[39m \u001b[38;5;28;01mFalse\u001b[39;00m) \u001b[38;5;241m-\u001b[39m\u001b[38;5;241m>\u001b[39m \u001b[38;5;28;01mNone\u001b[39;00m:\n\u001b[1;32m    886\u001b[0m \u001b[38;5;250m    \u001b[39m\u001b[38;5;124;03m\"\"\"Prints the first ``n`` rows to the console.\u001b[39;00m\n\u001b[1;32m    887\u001b[0m \n\u001b[1;32m    888\u001b[0m \u001b[38;5;124;03m    .. versionadded:: 1.3.0\u001b[39;00m\n\u001b[0;32m   (...)\u001b[0m\n\u001b[1;32m    943\u001b[0m \u001b[38;5;124;03m    name | Bob\u001b[39;00m\n\u001b[1;32m    944\u001b[0m \u001b[38;5;124;03m    \"\"\"\u001b[39;00m\n\u001b[0;32m--> 945\u001b[0m     \u001b[38;5;28mprint\u001b[39m(\u001b[38;5;28;43mself\u001b[39;49m\u001b[38;5;241;43m.\u001b[39;49m\u001b[43m_show_string\u001b[49m\u001b[43m(\u001b[49m\u001b[43mn\u001b[49m\u001b[43m,\u001b[49m\u001b[43m \u001b[49m\u001b[43mtruncate\u001b[49m\u001b[43m,\u001b[49m\u001b[43m \u001b[49m\u001b[43mvertical\u001b[49m\u001b[43m)\u001b[49m)\n",
      "File \u001b[0;32m~/anaconda3/envs/ai/lib/python3.11/site-packages/pyspark/sql/dataframe.py:963\u001b[0m, in \u001b[0;36mDataFrame._show_string\u001b[0;34m(self, n, truncate, vertical)\u001b[0m\n\u001b[1;32m    957\u001b[0m     \u001b[38;5;28;01mraise\u001b[39;00m PySparkTypeError(\n\u001b[1;32m    958\u001b[0m         error_class\u001b[38;5;241m=\u001b[39m\u001b[38;5;124m\"\u001b[39m\u001b[38;5;124mNOT_BOOL\u001b[39m\u001b[38;5;124m\"\u001b[39m,\n\u001b[1;32m    959\u001b[0m         message_parameters\u001b[38;5;241m=\u001b[39m{\u001b[38;5;124m\"\u001b[39m\u001b[38;5;124marg_name\u001b[39m\u001b[38;5;124m\"\u001b[39m: \u001b[38;5;124m\"\u001b[39m\u001b[38;5;124mvertical\u001b[39m\u001b[38;5;124m\"\u001b[39m, \u001b[38;5;124m\"\u001b[39m\u001b[38;5;124marg_type\u001b[39m\u001b[38;5;124m\"\u001b[39m: \u001b[38;5;28mtype\u001b[39m(vertical)\u001b[38;5;241m.\u001b[39m\u001b[38;5;18m__name__\u001b[39m},\n\u001b[1;32m    960\u001b[0m     )\n\u001b[1;32m    962\u001b[0m \u001b[38;5;28;01mif\u001b[39;00m \u001b[38;5;28misinstance\u001b[39m(truncate, \u001b[38;5;28mbool\u001b[39m) \u001b[38;5;129;01mand\u001b[39;00m truncate:\n\u001b[0;32m--> 963\u001b[0m     \u001b[38;5;28;01mreturn\u001b[39;00m \u001b[38;5;28;43mself\u001b[39;49m\u001b[38;5;241;43m.\u001b[39;49m\u001b[43m_jdf\u001b[49m\u001b[38;5;241;43m.\u001b[39;49m\u001b[43mshowString\u001b[49m\u001b[43m(\u001b[49m\u001b[43mn\u001b[49m\u001b[43m,\u001b[49m\u001b[43m \u001b[49m\u001b[38;5;241;43m20\u001b[39;49m\u001b[43m,\u001b[49m\u001b[43m \u001b[49m\u001b[43mvertical\u001b[49m\u001b[43m)\u001b[49m\n\u001b[1;32m    964\u001b[0m \u001b[38;5;28;01melse\u001b[39;00m:\n\u001b[1;32m    965\u001b[0m     \u001b[38;5;28;01mtry\u001b[39;00m:\n",
      "File \u001b[0;32m~/anaconda3/envs/ai/lib/python3.11/site-packages/py4j/java_gateway.py:1322\u001b[0m, in \u001b[0;36mJavaMember.__call__\u001b[0;34m(self, *args)\u001b[0m\n\u001b[1;32m   1316\u001b[0m command \u001b[38;5;241m=\u001b[39m proto\u001b[38;5;241m.\u001b[39mCALL_COMMAND_NAME \u001b[38;5;241m+\u001b[39m\\\n\u001b[1;32m   1317\u001b[0m     \u001b[38;5;28mself\u001b[39m\u001b[38;5;241m.\u001b[39mcommand_header \u001b[38;5;241m+\u001b[39m\\\n\u001b[1;32m   1318\u001b[0m     args_command \u001b[38;5;241m+\u001b[39m\\\n\u001b[1;32m   1319\u001b[0m     proto\u001b[38;5;241m.\u001b[39mEND_COMMAND_PART\n\u001b[1;32m   1321\u001b[0m answer \u001b[38;5;241m=\u001b[39m \u001b[38;5;28mself\u001b[39m\u001b[38;5;241m.\u001b[39mgateway_client\u001b[38;5;241m.\u001b[39msend_command(command)\n\u001b[0;32m-> 1322\u001b[0m return_value \u001b[38;5;241m=\u001b[39m \u001b[43mget_return_value\u001b[49m\u001b[43m(\u001b[49m\n\u001b[1;32m   1323\u001b[0m \u001b[43m    \u001b[49m\u001b[43manswer\u001b[49m\u001b[43m,\u001b[49m\u001b[43m \u001b[49m\u001b[38;5;28;43mself\u001b[39;49m\u001b[38;5;241;43m.\u001b[39;49m\u001b[43mgateway_client\u001b[49m\u001b[43m,\u001b[49m\u001b[43m \u001b[49m\u001b[38;5;28;43mself\u001b[39;49m\u001b[38;5;241;43m.\u001b[39;49m\u001b[43mtarget_id\u001b[49m\u001b[43m,\u001b[49m\u001b[43m \u001b[49m\u001b[38;5;28;43mself\u001b[39;49m\u001b[38;5;241;43m.\u001b[39;49m\u001b[43mname\u001b[49m\u001b[43m)\u001b[49m\n\u001b[1;32m   1325\u001b[0m \u001b[38;5;28;01mfor\u001b[39;00m temp_arg \u001b[38;5;129;01min\u001b[39;00m temp_args:\n\u001b[1;32m   1326\u001b[0m     \u001b[38;5;28;01mif\u001b[39;00m \u001b[38;5;28mhasattr\u001b[39m(temp_arg, \u001b[38;5;124m\"\u001b[39m\u001b[38;5;124m_detach\u001b[39m\u001b[38;5;124m\"\u001b[39m):\n",
      "File \u001b[0;32m~/anaconda3/envs/ai/lib/python3.11/site-packages/pyspark/errors/exceptions/captured.py:185\u001b[0m, in \u001b[0;36mcapture_sql_exception.<locals>.deco\u001b[0;34m(*a, **kw)\u001b[0m\n\u001b[1;32m    181\u001b[0m converted \u001b[38;5;241m=\u001b[39m convert_exception(e\u001b[38;5;241m.\u001b[39mjava_exception)\n\u001b[1;32m    182\u001b[0m \u001b[38;5;28;01mif\u001b[39;00m \u001b[38;5;129;01mnot\u001b[39;00m \u001b[38;5;28misinstance\u001b[39m(converted, UnknownException):\n\u001b[1;32m    183\u001b[0m     \u001b[38;5;66;03m# Hide where the exception came from that shows a non-Pythonic\u001b[39;00m\n\u001b[1;32m    184\u001b[0m     \u001b[38;5;66;03m# JVM exception message.\u001b[39;00m\n\u001b[0;32m--> 185\u001b[0m     \u001b[38;5;28;01mraise\u001b[39;00m converted \u001b[38;5;28;01mfrom\u001b[39;00m \u001b[38;5;28;01mNone\u001b[39;00m\n\u001b[1;32m    186\u001b[0m \u001b[38;5;28;01melse\u001b[39;00m:\n\u001b[1;32m    187\u001b[0m     \u001b[38;5;28;01mraise\u001b[39;00m\n",
      "\u001b[0;31mAnalysisException\u001b[0m: Since Spark 2.3, the queries from raw JSON/CSV files are disallowed when the\nreferenced columns only include the internal corrupt record column\n(named _corrupt_record by default). For example:\nspark.read.schema(schema).csv(file).filter($\"_corrupt_record\".isNotNull).count()\nand spark.read.schema(schema).csv(file).select(\"_corrupt_record\").show().\nInstead, you can cache or save the parsed results and then send the same query.\nFor example, val df = spark.read.schema(schema).csv(file).cache() and then\ndf.filter($\"_corrupt_record\".isNotNull).count()."
     ]
    }
   ],
   "source": [
    "df_single.show()"
   ]
  },
  {
   "cell_type": "code",
   "execution_count": null,
   "id": "068f9c40-f8d5-4599-9ddf-0fa53dfc2bd5",
   "metadata": {},
   "outputs": [],
   "source": [
    "# Read Multiline JSON file\n",
    "\n",
    "df_multi = spark.read.format(\"json\").option(\"multiLine\", True).load(\"data/input/order_multiline.json\")"
   ]
  },
  {
   "cell_type": "code",
   "execution_count": null,
   "id": "8e938c8b-9af6-4a51-8bbf-96e336eb7571",
   "metadata": {},
   "outputs": [],
   "source": [
    "df_multi.printSchema()"
   ]
  },
  {
   "cell_type": "code",
   "execution_count": null,
   "id": "8d8f1a19-9cba-4291-845d-38d9ca160195",
   "metadata": {},
   "outputs": [],
   "source": [
    "df_multi.show()"
   ]
  },
  {
   "cell_type": "code",
   "execution_count": null,
   "id": "f85396ed-41e0-41e7-9aa3-1c8e9f6418bb",
   "metadata": {},
   "outputs": [],
   "source": [
    "df = spark.read.format(\"text\").load(\"data/input/order_singleline.json\")"
   ]
  },
  {
   "cell_type": "code",
   "execution_count": null,
   "id": "b206dc14-6d0d-49c7-8e6a-dbbe142092b7",
   "metadata": {},
   "outputs": [],
   "source": [
    "df.printSchema()"
   ]
  },
  {
   "cell_type": "code",
   "execution_count": null,
   "id": "92689ab1-a93b-4358-96c6-8f67ac5b899f",
   "metadata": {},
   "outputs": [],
   "source": [
    "df.show(truncate=False)"
   ]
  },
  {
   "cell_type": "code",
   "execution_count": null,
   "id": "ade6a7fb-83e3-4db8-9fc4-98c73a6341b6",
   "metadata": {},
   "outputs": [],
   "source": [
    "# With Schema\n",
    "\n",
    "_schema = \"customer_id string, order_id string, contact array<long>\"\n",
    "\n",
    "df_schema = spark.read.format(\"json\").schema(_schema).load(\"data/input/order_singleline.json\")"
   ]
  },
  {
   "cell_type": "code",
   "execution_count": null,
   "id": "0b70da0a-4786-457a-8393-ea4858f05fad",
   "metadata": {},
   "outputs": [],
   "source": [
    "df_schema.show()"
   ]
  },
  {
   "cell_type": "code",
   "execution_count": null,
   "id": "7ae5529b-a62b-4092-958f-f67aaeeb0cc2",
   "metadata": {},
   "outputs": [],
   "source": [
    "root\n",
    " |-- contact: array (nullable = true)\n",
    " |    |-- element: long (containsNull = true)\n",
    " |-- customer_id: string (nullable = true)\n",
    " |-- order_id: string (nullable = true)\n",
    " |-- order_line_items: array (nullable = true)\n",
    " |    |-- element: struct (containsNull = true)\n",
    " |    |    |-- amount: double (nullable = true)\n",
    " |    |    |-- item_id: string (nullable = true)\n",
    " |    |    |-- qty: long (nullable = true)"
   ]
  },
  {
   "cell_type": "code",
   "execution_count": null,
   "id": "afa2be60-ccca-45f3-bf6b-90ebf263b0ab",
   "metadata": {},
   "outputs": [],
   "source": [
    "_schema = \"contact array<string>, customer_id string, order_id string, order_line_items array<struct<amount double, item_id string, qty long>>\""
   ]
  },
  {
   "cell_type": "code",
   "execution_count": null,
   "id": "a647e4ad-c0a5-4467-af25-e40b46a670ac",
   "metadata": {},
   "outputs": [],
   "source": [
    "df_schema_new = spark.read.format(\"json\").schema(_schema).load(\"data/input/order_singleline.json\")"
   ]
  },
  {
   "cell_type": "code",
   "execution_count": null,
   "id": "60238f92-ca44-4948-baac-b8027d2f6ae5",
   "metadata": {},
   "outputs": [],
   "source": [
    "df_schema_new.printSchema()"
   ]
  },
  {
   "cell_type": "code",
   "execution_count": null,
   "id": "2c00fba8-367e-41e5-98fb-9f6857699fe6",
   "metadata": {},
   "outputs": [],
   "source": [
    "df_schema_new.show()"
   ]
  },
  {
   "cell_type": "code",
   "execution_count": null,
   "id": "1f0576b3-db93-4472-9dd9-814480315587",
   "metadata": {},
   "outputs": [],
   "source": [
    "# Function from_json to read from a column\n",
    "\n",
    "_schema = \"contact array<string>, customer_id string, order_id string, order_line_items array<struct<amount double, item_id string, qty long>>\"\n",
    "\n",
    "from pyspark.sql.functions import from_json\n",
    "\n",
    "df_expanded = df.withColumn(\"parsed\", from_json(df.value, _schema))\n"
   ]
  },
  {
   "cell_type": "code",
   "execution_count": null,
   "id": "f8d5fa40-0e75-4b99-b44e-f6656bce6c97",
   "metadata": {},
   "outputs": [],
   "source": [
    "df_expanded.printSchema()"
   ]
  },
  {
   "cell_type": "code",
   "execution_count": null,
   "id": "06605313-0101-4e79-8e20-0dd9b2cd6a85",
   "metadata": {},
   "outputs": [],
   "source": [
    "df_expanded.show()"
   ]
  },
  {
   "cell_type": "code",
   "execution_count": null,
   "id": "8aa2e00d-e882-4445-99f5-0765aacfecfc",
   "metadata": {},
   "outputs": [],
   "source": [
    "# Function to_json to parse a JSON string\n",
    "from pyspark.sql.functions import to_json\n",
    "\n",
    "df_unparsed = df_expanded.withColumn(\"unparsed\", to_json(df_expanded.parsed))"
   ]
  },
  {
   "cell_type": "code",
   "execution_count": null,
   "id": "0e863564-d6d3-4c47-839d-e0e751955ce5",
   "metadata": {},
   "outputs": [],
   "source": [
    "df_unparsed.printSchema()"
   ]
  },
  {
   "cell_type": "code",
   "execution_count": null,
   "id": "13f38abe-cdb3-4fd6-91e9-d61e5785fa24",
   "metadata": {},
   "outputs": [],
   "source": [
    "df_unparsed.select(\"unparsed\").show(truncate=False)"
   ]
  },
  {
   "cell_type": "code",
   "execution_count": null,
   "id": "d324986f-7175-484b-b1bd-e930c36aa53d",
   "metadata": {},
   "outputs": [],
   "source": [
    "# Get values from Parsed JSON\n",
    "\n",
    "df_1 = df_expanded.select(\"parsed.*\")"
   ]
  },
  {
   "cell_type": "code",
   "execution_count": null,
   "id": "0cc94126-2912-4dc2-8159-9becb35d2663",
   "metadata": {},
   "outputs": [],
   "source": [
    "from pyspark.sql.functions import explode\n",
    "\n",
    "df_2 = df_1.withColumn(\"expanded_line_items\", explode(\"order_line_items\"))"
   ]
  },
  {
   "cell_type": "code",
   "execution_count": null,
   "id": "79c9d611-8fef-45ac-8d97-6c282f18fd6e",
   "metadata": {},
   "outputs": [],
   "source": [
    "df_2.show()"
   ]
  },
  {
   "cell_type": "code",
   "execution_count": null,
   "id": "76120799-4eb9-4677-9279-19202416ab32",
   "metadata": {},
   "outputs": [],
   "source": [
    "df_3 = df_2.select(\"contact\", \"customer_id\", \"order_id\", \"expanded_line_items.*\")"
   ]
  },
  {
   "cell_type": "code",
   "execution_count": null,
   "id": "d6e0806c-4411-41f1-9809-1243e15c615d",
   "metadata": {},
   "outputs": [],
   "source": [
    "df_3.show()"
   ]
  },
  {
   "cell_type": "code",
   "execution_count": null,
   "id": "55b1b384-bcd3-4dba-bf0b-cc5709e8ed40",
   "metadata": {},
   "outputs": [],
   "source": [
    "# Explode Array fields\n",
    "df_final = df_3.withColumn(\"contact_expanded\", explode(\"contact\"))\n"
   ]
  },
  {
   "cell_type": "code",
   "execution_count": null,
   "id": "b9d8bb75-f280-4e38-ab9a-cfe7fc05531e",
   "metadata": {},
   "outputs": [],
   "source": [
    "df_final.printSchema()"
   ]
  },
  {
   "cell_type": "code",
   "execution_count": null,
   "id": "31d5b98f-b970-456f-a98d-b7dcaf2f3172",
   "metadata": {},
   "outputs": [],
   "source": [
    "df_final.drop(\"contact\").show()"
   ]
  },
  {
   "cell_type": "code",
   "execution_count": null,
   "id": "edd8b05d-e43f-4a9d-9424-a4472ae348b7",
   "metadata": {},
   "outputs": [],
   "source": []
  }
 ],
 "metadata": {
  "kernelspec": {
   "display_name": "Python 3 (ipykernel)",
   "language": "python",
   "name": "python3"
  },
  "language_info": {
   "codemirror_mode": {
    "name": "ipython",
    "version": 3
   },
   "file_extension": ".py",
   "mimetype": "text/x-python",
   "name": "python",
   "nbconvert_exporter": "python",
   "pygments_lexer": "ipython3",
   "version": "3.11.9"
  }
 },
 "nbformat": 4,
 "nbformat_minor": 5
}
